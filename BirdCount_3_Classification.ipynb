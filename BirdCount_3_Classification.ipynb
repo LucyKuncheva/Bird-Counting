{
 "cells": [
  {
   "cell_type": "markdown",
   "metadata": {},
   "source": [
    "# Classification"
   ]
  },
  {
   "cell_type": "code",
   "execution_count": 1,
   "metadata": {},
   "outputs": [],
   "source": [
    "import numpy as np\n",
    "import cv2\n",
    "import matplotlib.pyplot as plt\n",
    "import matplotlib.image as mpimg\n",
    "import pandas as pd\n",
    "from skimage.transform import resize"
   ]
  },
  {
   "cell_type": "code",
   "execution_count": 2,
   "metadata": {},
   "outputs": [
    {
     "name": "stdout",
     "output_type": "stream",
     "text": [
      "(8962, 30)\n"
     ]
    }
   ],
   "source": [
    "# Get the data\n",
    "d = pd.read_csv('ClipsPCA30.csv', header = None)\n",
    "data_source = d.to_numpy()\n",
    "Labels = data_source[:,-1]\n",
    "\n",
    "# Remove the smallest classes\n",
    "index_small_classes = np.where((Labels == 1) | (Labels == 4))[0]\n",
    "data_source = np.delete(data_source, index_small_classes, axis = 0)\n",
    "\n",
    "Data = data_source[:,:-1]\n",
    "Labels = data_source[:,-1]\n",
    "\n",
    "u = {'GL', 'RG', 'SC', 'Negatives'} # label names\n",
    "lv = [0, 2, 3, 9] # label values\n",
    "print(Data.shape)"
   ]
  },
  {
   "cell_type": "code",
   "execution_count": 3,
   "metadata": {},
   "outputs": [
    {
     "name": "stdout",
     "output_type": "stream",
     "text": [
      "(8962, 135)\n"
     ]
    }
   ],
   "source": [
    "# Get HOG data\n",
    "dd = pd.read_csv('ClipsHOG.csv', header = None)\n",
    "DataHOG = dd.to_numpy() # no labels\n",
    "DataHOG = np.delete(DataHOG, index_small_classes, axis = 0)\n",
    "print(DataHOG.shape)"
   ]
  },
  {
   "cell_type": "code",
   "execution_count": 4,
   "metadata": {},
   "outputs": [
    {
     "name": "stdout",
     "output_type": "stream",
     "text": [
      "                --Classifier--  PCA30    HOG\n",
      "--------------------------------------------\n",
      "  Linear Discriminant Analysis 0.9445 0.8777\n",
      "                          3-nn 0.9657 0.7897\n",
      "                 Decision Tree 0.9360 0.7857\n",
      "                       Bagging 0.9559 0.8378\n",
      "                 Random Forest 0.9621 0.8662\n"
     ]
    }
   ],
   "source": [
    "# Classifiers\n",
    "from sklearn.discriminant_analysis import LinearDiscriminantAnalysis\n",
    "from sklearn.neighbors import KNeighborsClassifier\n",
    "from sklearn.tree import DecisionTreeClassifier\n",
    "from sklearn.svm import SVC\n",
    "from sklearn.ensemble import BaggingClassifier\n",
    "from sklearn.ensemble import RandomForestClassifier\n",
    "\n",
    "from sklearn.model_selection import cross_validate\n",
    "from sklearn.model_selection import cross_val_predict\n",
    "from sklearn.metrics import make_scorer\n",
    "from sklearn.metrics import confusion_matrix\n",
    "\n",
    "\n",
    "#cl_names = ['Linear Discriminant Analysis', '3-nn', 'Decision Tree',\n",
    "#            'SVM', 'Bagging', 'Random Forest'] # classifiers\n",
    "\n",
    "cl_names = ['Linear Discriminant Analysis', '3-nn', 'Decision Tree',\n",
    "            'Bagging', 'Random Forest'] # classifiers\n",
    "\n",
    "cla = [] # accumlate the classifiers\n",
    "cla.append(LinearDiscriminantAnalysis())\n",
    "cla.append(KNeighborsClassifier())\n",
    "cla.append(DecisionTreeClassifier())\n",
    "# cla.append(SVC(gamma=0.1, kernel=\"rbf\")) # Not very good here\n",
    "cla.append(BaggingClassifier())\n",
    "cla.append(RandomForestClassifier())\n",
    "    \n",
    "# cv_results = cross_validate(cla[0],Data,Labels,return_train_score = True, cv = 10)    \n",
    "# print(np.mean(cv_results['test_score']))\n",
    "# print(np.mean(cv_results['train_score']))\n",
    "\n",
    "print('                --Classifier--  PCA30    HOG')\n",
    "print('--------------------------------------------')\n",
    "\n",
    "for i in range(len(cl_names)):\n",
    "    classifier = cla[i]\n",
    "    y = cross_val_predict(classifier,Data,Labels, cv = 10)    \n",
    "    yhog = cross_val_predict(classifier,DataHOG,Labels, cv = 10)    \n",
    "    print('%30s %.4f %.4f' % (cl_names[i],np.mean(y == Labels),np.mean(yhog == Labels)))\n",
    "    # print(confusion_matrix(Labels,y))\n",
    "    \n",
    "    \n",
    "    "
   ]
  },
  {
   "cell_type": "markdown",
   "metadata": {},
   "source": [
    "One of the best options is the LDA. It is imple, fast, reasonably accurate, and can return probabilities. Maybe Random Forest?"
   ]
  },
  {
   "cell_type": "code",
   "execution_count": 5,
   "metadata": {},
   "outputs": [
    {
     "name": "stdout",
     "output_type": "stream",
     "text": [
      "LDA resub accuracy =  0.9492300825708547\n",
      "RF resub accuracy =  1.0\n"
     ]
    }
   ],
   "source": [
    "import pickle as pk\n",
    "\n",
    "c1 = cla[0].fit(Data,Labels)\n",
    "print('LDA resub accuracy = ', np.mean(Labels == c1.predict(Data)))\n",
    "c2 = cla[-1].fit(Data,Labels)\n",
    "print('RF resub accuracy = ', np.mean(Labels == c2.predict(Data)))\n",
    "\n",
    "pk.dump(c1, open(\"LDA.pkl\",\"wb\")) \n",
    "pk.dump(c2, open(\"RF.pkl\",\"wb\")) \n",
    "\n",
    "# later reload the pickle file\n",
    "# pca_reload = pk.load(open(\"pca.pkl\",'rb'))\n",
    "# result_new = pca_reload .transform(X)"
   ]
  },
  {
   "cell_type": "code",
   "execution_count": null,
   "metadata": {},
   "outputs": [],
   "source": []
  }
 ],
 "metadata": {
  "kernelspec": {
   "display_name": "Python 3",
   "language": "python",
   "name": "python3"
  },
  "language_info": {
   "codemirror_mode": {
    "name": "ipython",
    "version": 3
   },
   "file_extension": ".py",
   "mimetype": "text/x-python",
   "name": "python",
   "nbconvert_exporter": "python",
   "pygments_lexer": "ipython3",
   "version": "3.8.8"
  }
 },
 "nbformat": 4,
 "nbformat_minor": 4
}
